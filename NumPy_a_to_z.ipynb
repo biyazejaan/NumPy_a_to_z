{
 "cells": [
  {
   "cell_type": "markdown",
   "metadata": {},
   "source": [
    "# Numpy"
   ]
  },
  {
   "cell_type": "markdown",
   "metadata": {},
   "source": [
    "## Install NumPy Library"
   ]
  },
  {
   "cell_type": "code",
   "execution_count": null,
   "metadata": {},
   "outputs": [],
   "source": [
    "# Install NumPy using PIP\n",
    "pip install numpy"
   ]
  },
  {
   "cell_type": "code",
   "execution_count": null,
   "metadata": {},
   "outputs": [],
   "source": [
    "# Install NumPy using Conda\n",
    "conda install numpy\n"
   ]
  },
  {
   "cell_type": "markdown",
   "metadata": {},
   "source": [
    "## Creating NumPy Arrays"
   ]
  },
  {
   "cell_type": "code",
   "execution_count": null,
   "metadata": {},
   "outputs": [],
   "source": [
    "# Syntax to create NumPy array\n",
    "numpy.array(object, dtype = None, copy = True, order = None, subok = False, ndmin = 0)\n"
   ]
  },
  {
   "cell_type": "markdown",
   "metadata": {},
   "source": [
    "| Array | Description |\n",
    "| --- | --- |\n",
    "|object|\tIt represents the collection object. It can be a list, tuple, dictionary, set, etc.|\n",
    "|dtype|\tWe can change the data type of the array elements by changing this option to the specified type. The default is none.|\n",
    "|copy|\tIt is optional. By default, it is true which means the object is copied.|\n",
    "|order|\tThere can be 3 possible values assigned to this option. It can be C (column order), R (row order), or A (any)|\n",
    "|subok|\tThe returned array will be base class array by default. We can change this to make the subclasses passes through by setting this option to true.|\n",
    "|ndmin|\tIt represents the minimum dimensions of the resultant array.|"
   ]
  },
  {
   "cell_type": "code",
   "execution_count": 1,
   "metadata": {},
   "outputs": [],
   "source": [
    "# Import Libraries\n",
    "import numpy as np"
   ]
  },
  {
   "cell_type": "markdown",
   "metadata": {},
   "source": [
    "### Create NumPy Array using List"
   ]
  },
  {
   "cell_type": "code",
   "execution_count": 3,
   "metadata": {},
   "outputs": [
    {
     "data": {
      "text/plain": [
       "array([10, 20, 30])"
      ]
     },
     "execution_count": 3,
     "metadata": {},
     "output_type": "execute_result"
    }
   ],
   "source": [
    "# Create ndarray\n",
    "arr1 = np.array([10,20,30])\n",
    "arr1"
   ]
  },
  {
   "cell_type": "markdown",
   "metadata": {},
   "source": [
    "### Create a Multi-Dimensional Array"
   ]
  },
  {
   "cell_type": "code",
   "execution_count": 4,
   "metadata": {},
   "outputs": [
    {
     "data": {
      "text/plain": [
       "array([[10, 20, 30],\n",
       "       [40, 50, 60]])"
      ]
     },
     "execution_count": 4,
     "metadata": {},
     "output_type": "execute_result"
    }
   ],
   "source": [
    "# Create multi dimensional array\n",
    "arr2 = np.array([[10,20,30],[40,50,60]])\n",
    "arr2"
   ]
  },
  {
   "cell_type": "markdown",
   "metadata": {},
   "source": [
    "### Create a Sequence of Integers using arange()"
   ]
  },
  {
   "cell_type": "code",
   "execution_count": 12,
   "metadata": {},
   "outputs": [
    {
     "name": "stdout",
     "output_type": "stream",
     "text": [
      "A sequential array with steps of 3:\n",
      " [ 0  3  6  9 12 15 18]\n"
     ]
    }
   ],
   "source": [
    "#Create a sequence of integers\n",
    "# from 0 to 20 with steps of 3\n",
    "arr21= np.arange(0, 20, 3)\n",
    "print (\"A sequential array with steps of 3:\\n\", arr21)"
   ]
  },
  {
   "cell_type": "markdown",
   "metadata": {},
   "source": [
    "### Single Element Indexing"
   ]
  },
  {
   "cell_type": "code",
   "execution_count": 13,
   "metadata": {},
   "outputs": [
    {
     "name": "stdout",
     "output_type": "stream",
     "text": [
      "[ 0  1  2  3  4  5  6  7  8  9 10]\n",
      "2\n",
      "9\n"
     ]
    }
   ],
   "source": [
    "# Access single element using index \n",
    "arr22 = np.arange(11)\n",
    "print(arr22)\n",
    "print(arr22[2])\n",
    "print(arr22[-2])"
   ]
  },
  {
   "cell_type": "markdown",
   "metadata": {},
   "source": [
    "### Multi-Dimenstional Array Indexing"
   ]
  },
  {
   "cell_type": "code",
   "execution_count": 15,
   "metadata": {},
   "outputs": [
    {
     "name": "stdout",
     "output_type": "stream",
     "text": [
      "[[10 20 30 40 50]\n",
      " [20 30 50 10 30]]\n",
      "(2, 5)\n",
      "30\n",
      "50\n",
      "30\n"
     ]
    }
   ],
   "source": [
    "# Access multi-dimensional array element\n",
    "# using array indexing\n",
    "arr23 =np.array([[10,20,30,40,50],[20,30,50,10,30]])\n",
    "print(arr23)\n",
    "#[[10 20 30 40 50]\n",
    "# [20 30 50 10 30]]\n",
    "\n",
    "print(arr23.shape)\n",
    "\n",
    "print(arr23[1,1])\n",
    "print(arr23[0,4])\n",
    "print(arr23[1,-1])"
   ]
  },
  {
   "cell_type": "markdown",
   "metadata": {},
   "source": [
    "### Fix The Minimum Dimensions"
   ]
  },
  {
   "cell_type": "code",
   "execution_count": 5,
   "metadata": {},
   "outputs": [
    {
     "data": {
      "text/plain": [
       "array([[10, 20, 30, 40]])"
      ]
     },
     "execution_count": 5,
     "metadata": {},
     "output_type": "execute_result"
    }
   ],
   "source": [
    "# Minimum dimension\n",
    "arr3 = np.array([10, 20, 30,40], ndmin = 2)\n",
    "arr3\n",
    "\n",
    "## ndmin param ki madad sy ham minimum dimension set kar sakty hen "
   ]
  },
  {
   "cell_type": "markdown",
   "metadata": {},
   "source": [
    "### Change The Data Type"
   ]
  },
  {
   "cell_type": "code",
   "execution_count": 6,
   "metadata": {},
   "outputs": [
    {
     "data": {
      "text/plain": [
       "array([10.+0.j, 20.+0.j, 30.+0.j])"
      ]
     },
     "execution_count": 6,
     "metadata": {},
     "output_type": "execute_result"
    }
   ],
   "source": [
    "#dtype parameter \n",
    "arr4 = np.array([10, 20, 30], dtype = complex)\n",
    "arr4\n",
    "\n",
    "## dtype param ki madad sy pahly hi datatype define kar sakty hen"
   ]
  },
  {
   "cell_type": "markdown",
   "metadata": {},
   "source": [
    "### Get the Dimensions of an Array"
   ]
  },
  {
   "cell_type": "code",
   "execution_count": 8,
   "metadata": {},
   "outputs": [
    {
     "name": "stdout",
     "output_type": "stream",
     "text": [
      "2\n"
     ]
    },
    {
     "data": {
      "text/plain": [
       "array([[ 1,  2,  3,  4],\n",
       "       [ 7,  8,  6,  7],\n",
       "       [ 9, 10, 11, 12]])"
      ]
     },
     "execution_count": 8,
     "metadata": {},
     "output_type": "execute_result"
    }
   ],
   "source": [
    "# Get dimension of the array\n",
    "arr5 = np.array([[1, 2, 3, 4], [7, 8, 6, 7], [9, 10, 11, 12]]) \n",
    "print(arr5.ndim)\n",
    "arr5\n",
    "\n",
    "## ndim param ki madad say ham array ki dimension find kar sakty hen "
   ]
  },
  {
   "cell_type": "markdown",
   "metadata": {},
   "source": [
    "### Get The Size of Each Array Element"
   ]
  },
  {
   "cell_type": "code",
   "execution_count": 9,
   "metadata": {},
   "outputs": [
    {
     "name": "stdout",
     "output_type": "stream",
     "text": [
      "Each item contain in bytes : 4\n"
     ]
    }
   ],
   "source": [
    "# Finding the size of each item in the array  \n",
    "arr6 = np.array([10,20,30])\n",
    "print(\"Each item contain in bytes :\",arr6.itemsize)\n",
    "\n",
    "## itemsize function sy hum array ky har item ka size find kar sakty hen "
   ]
  },
  {
   "cell_type": "markdown",
   "metadata": {},
   "source": [
    "### Get The Data Type of Each Array Item"
   ]
  },
  {
   "cell_type": "code",
   "execution_count": 10,
   "metadata": {},
   "outputs": [
    {
     "name": "stdout",
     "output_type": "stream",
     "text": [
      "Each item is of the type int32\n"
     ]
    }
   ],
   "source": [
    "# Finding the data type of each array item  \n",
    "arr7 = np.array([10,20,30])  \n",
    "print(\"Each item is of the type\", arr7.dtype)"
   ]
  },
  {
   "cell_type": "markdown",
   "metadata": {},
   "source": [
    "### Get the Shape and Size of Array"
   ]
  },
  {
   "cell_type": "code",
   "execution_count": 11,
   "metadata": {},
   "outputs": [
    {
     "name": "stdout",
     "output_type": "stream",
     "text": [
      "Array Size: 8\n",
      "Shape: (2, 4)\n"
     ]
    }
   ],
   "source": [
    "# Get shape and size of array\n",
    "arr8 = np.array([[10,20,30,40],[60,70,80,90]])  \n",
    "print(\"Array Size:\", arr8.size)  \n",
    "print(\"Shape:\", arr8.shape)"
   ]
  },
  {
   "cell_type": "markdown",
   "metadata": {},
   "source": [
    "### NumPy Array Data Types"
   ]
  },
  {
   "cell_type": "markdown",
   "metadata": {},
   "source": [
    "| Data Type | Description |\n",
    "| -- | ----------- |\n",
    "|bool_|\tIt represents the boolean value indicating true or false. It is stored as a byte.|\n",
    "|int_|\tIt is the default type of integer. It is identical to long type in C that contains 64 bit or 32-bit integer.|\n",
    "|intc|\tIt is similar to the C integer (c int) as it represents 32 or 64-bit int.|\n",
    "|intp|\tIt represents the integers that are used for indexing.|\n",
    "|int8|\tIt is the 8-bit integer identical to a byte. The range of the value is -128 to 127.|\n",
    "|int16|\tIt is the 2-byte (16-bit) integer. The range is -32768 to 32767.|\n",
    "|int32|\tIt is the 4-byte (32-bit) integer. The range is -2147483648 to 2147483647.|\n",
    "|int64|\tIt is the 8-byte (64-bit) integer. The range is -9223372036854775808 to 9223372036854775807.|\n",
    "|uint8|\tIt is the 1-byte (8-bit) unsigned integer.|\n",
    "|uint16|\tIt is the 2-byte (16-bit) unsigned integer.|\n",
    "|uint32|\tIt is the 4-byte (32-bit) unsigned integer.|\n",
    "|uint64|\tIt is the 8 bytes (64-bit) unsigned integer.|\n",
    "|float_|\tIt is identical to float64.|\n",
    "|float16|\tIt is the half-precision float. 5 bits are reserved for the exponent. 10 bits are reserved for the mantissa, and 1 bit is reserved for the sign.|\n",
    "|float32|\tIt is a single-precision float. 8 bits are reserved for the exponent, 23 bits are reserved for the mantissa, and 1 bit is reserved for the sign.|\n",
    "|float64|\tIt is the double-precision float. 11 bits are reserved for the exponent, 52 bits are reserved for the mantissa, 1 bit is used for the sign.|\n",
    "|complex_|\tIt is identical to complex128.|\n",
    "|complex64|\tIt is used to represent the complex number where the real and imaginary part shares 32 bits each.|\n",
    "|complex128|\tIt is used to represent the complex number where the real and imaginary part shares 64 bit each.|"
   ]
  },
  {
   "cell_type": "markdown",
   "metadata": {},
   "source": []
  },
  {
   "cell_type": "markdown",
   "metadata": {},
   "source": [
    "## Operations Using in NumPy"
   ]
  },
  {
   "cell_type": "markdown",
   "metadata": {},
   "source": [
    "### Arithmetic Operations"
   ]
  },
  {
   "cell_type": "code",
   "execution_count": 16,
   "metadata": {},
   "outputs": [
    {
     "name": "stdout",
     "output_type": "stream",
     "text": [
      "Adding two arrays:\n",
      " [[ 1  4  4  7]\n",
      " [ 5  8  8 11]\n",
      " [ 9 12 12 15]\n",
      " [13 16 16 19]]\n",
      "Subtracting two arrays:\n",
      " [[-1 -2  0 -1]\n",
      " [ 3  2  4  3]\n",
      " [ 7  6  8  7]\n",
      " [11 10 12 11]]\n",
      "Multiplying the two arrays:\n",
      " [[ 0  3  4 12]\n",
      " [ 4 15 12 28]\n",
      " [ 8 27 20 44]\n",
      " [12 39 28 60]]\n",
      "Dividing the two arrays:\n",
      " [[ 0.          0.33333333  1.          0.75      ]\n",
      " [ 4.          1.66666667  3.          1.75      ]\n",
      " [ 8.          3.          5.          2.75      ]\n",
      " [12.          4.33333333  7.          3.75      ]]\n"
     ]
    }
   ],
   "source": [
    "# Apply arithmetic operations on numpy arrays\n",
    "arr1 = np.arange(16).reshape(4,4)\n",
    "arr2 = np.array([1, 3, 2, 4])\n",
    "\n",
    "# add()\n",
    "add_arr = np.add(arr1,arr2)\n",
    "print(\"Adding two arrays:\\n\",add_arr)\n",
    "\n",
    "# substract()\n",
    "sub_arr=np.subtract(arr1,arr2)\n",
    "print(\"Subtracting two arrays:\\n\",sub_arr)\n",
    "\n",
    "# multiply()\n",
    "mul_arr = np.multiply(arr1, arr2)\n",
    "print(\"Multiplying the two arrays:\\n\",mul_arr)\n",
    "\n",
    "# divide()\n",
    "div_arr = np.divide(arr1, arr2)\n",
    "print(\"Dividing the two arrays:\\n\",div_arr)\n"
   ]
  },
  {
   "cell_type": "markdown",
   "metadata": {},
   "source": [
    "### numpy.reciprocol()"
   ]
  },
  {
   "cell_type": "code",
   "execution_count": 17,
   "metadata": {},
   "outputs": [
    {
     "name": "stdout",
     "output_type": "stream",
     "text": [
      "After applying reciprocal function:\n",
      " [0.02       0.09708738 0.2        1.         0.005     ]\n",
      "After applying reciprocal function:\n",
      " [0]\n"
     ]
    }
   ],
   "source": [
    "# To perform Reciprocal operation\n",
    "arr1 = np.array([50, 10.3, 5, 1, 200])\n",
    "rep_arr1=np.reciprocal(arr1)\n",
    "print(\"After applying reciprocal function:\\n\",rep_arr1)\n",
    "#After applying reciprocal function:\n",
    "\n",
    "# Anotehr Example\n",
    "arr2 = np.array([20], dtype = int)\n",
    "rep_arr2=np.reciprocal(arr2)\n",
    "print(\"After applying reciprocal function:\\n\",rep_arr2)\n",
    "#After applying reciprocal function:"
   ]
  },
  {
   "cell_type": "markdown",
   "metadata": {},
   "source": [
    "### numpy.power()"
   ]
  },
  {
   "cell_type": "code",
   "execution_count": 19,
   "metadata": {},
   "outputs": [
    {
     "name": "stdout",
     "output_type": "stream",
     "text": [
      "Applying power function:\n",
      " [  27 1000  125]\n",
      "My second array:\n",
      " [3 2 1]\n",
      "Applying power function again:\n",
      " [ 27 100   5]\n"
     ]
    }
   ],
   "source": [
    "# To perform power operation\n",
    "arr1 = np.array([3, 10, 5])\n",
    "pow_arr1 = np.power(arr1, 3)\n",
    "print(\"Applying power function:\\n\",pow_arr1)\n",
    "\n",
    "\n",
    "arr2 = np.array([3, 2, 1])\n",
    "print(\"My second array:\\n\",arr2)\n",
    "pow_arr2=np.power(arr1, arr2)\n",
    "print(\"Applying power function again:\\n\",pow_arr2)\n",
    "\n"
   ]
  },
  {
   "cell_type": "markdown",
   "metadata": {},
   "source": [
    "### numpy.mod()"
   ]
  },
  {
   "cell_type": "code",
   "execution_count": 21,
   "metadata": {},
   "outputs": [
    {
     "name": "stdout",
     "output_type": "stream",
     "text": [
      "Applying mod() function: [1 0 1]\n",
      "Applying remainder() function: [1 0 1]\n"
     ]
    }
   ],
   "source": [
    "# To perform mod function\n",
    "# on NumPy array\n",
    "arr1 = np.array([7, 20, 13])\n",
    "arr2 = np.array([3, 5, 2])\n",
    "\n",
    "# mod()\n",
    "mod_arr = np.mod(arr1, arr2)\n",
    "print(\"Applying mod() function:\",mod_arr)\n",
    "\n",
    "## mod function, first array ky har element ko second array ky har element sy divide kar ky remainder return karta hai.\n",
    "## or remainder function bhi yahi kaam karta hai.\n",
    "# remainder()\n",
    "mod_arr = np.remainder(arr1, arr2)\n",
    "print(\"Applying remainder() function:\",mod_arr)\n"
   ]
  },
  {
   "cell_type": "markdown",
   "metadata": {},
   "source": []
  }
 ],
 "metadata": {
  "kernelspec": {
   "display_name": "Python 3.10.2 64-bit",
   "language": "python",
   "name": "python3"
  },
  "language_info": {
   "codemirror_mode": {
    "name": "ipython",
    "version": 3
   },
   "file_extension": ".py",
   "mimetype": "text/x-python",
   "name": "python",
   "nbconvert_exporter": "python",
   "pygments_lexer": "ipython3",
   "version": "3.10.2"
  },
  "orig_nbformat": 4,
  "vscode": {
   "interpreter": {
    "hash": "56b2d59c60e4f87487f41cc5e6e8f6aa7185f560bca4a918a113fd85cb7bd9a7"
   }
  }
 },
 "nbformat": 4,
 "nbformat_minor": 2
}
